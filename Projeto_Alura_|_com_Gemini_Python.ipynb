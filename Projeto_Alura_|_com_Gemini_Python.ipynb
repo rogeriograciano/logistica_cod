{
  "nbformat": 4,
  "nbformat_minor": 0,
  "metadata": {
    "colab": {
      "provenance": [],
      "authorship_tag": "ABX9TyMzGY3a2WWf0qfYhWGZ681T",
      "include_colab_link": true
    },
    "kernelspec": {
      "name": "python3",
      "display_name": "Python 3"
    },
    "language_info": {
      "name": "python"
    }
  },
  "cells": [
    {
      "cell_type": "markdown",
      "metadata": {
        "id": "view-in-github",
        "colab_type": "text"
      },
      "source": [
        "<a href=\"https://colab.research.google.com/github/rogeriograciano/logistica_cod/blob/main/Projeto_Alura_%7C_com_Gemini_Python.ipynb\" target=\"_parent\"><img src=\"https://colab.research.google.com/assets/colab-badge.svg\" alt=\"Open In Colab\"/></a>"
      ]
    },
    {
      "cell_type": "markdown",
      "source": [
        "Simulação de Roteamento de Entregas com Cash On Delivery (COD)"
      ],
      "metadata": {
        "id": "j0BJV4VFjbmo"
      }
    },
    {
      "cell_type": "code",
      "execution_count": null,
      "metadata": {
        "id": "BHChljicjRZq"
      },
      "outputs": [],
      "source": [
        "# Simulação de Operação Logística com Agentes para E-commerce de Afiliados com COD\n",
        "\n",
        "# Lista de pedidos de exemplo\n",
        "pedidos = [\n",
        "    {\"id\": 1, \"endereco\": \"Rua das Flores, 123\", \"forma_pagamento\": \"COD\"},\n",
        "    {\"id\": 2, \"endereco\": \"Avenida Principal, 456\", \"forma_pagamento\": \"Cartão\"},\n",
        "    {\"id\": 3, \"endereco\": \"Rua dos Cravos, 789\", \"forma_pagamento\": \"COD\"},\n",
        "    {\"id\": 4, \"endereco\": \"Travessa da Paz, 101\", \"forma_pagamento\": \"Boleto\"},\n",
        "    {\"id\": 5, \"endereco\": \"Alameda dos Anjos, 222\", \"forma_pagamento\": \"COD\"},\n",
        "    {\"id\": 6, \"endereco\": \"Praça Central, s/n\", \"forma_pagamento\": \"Pix\"},\n",
        "    {\"id\": 7, \"endereco\": \"Rua da Praia, 321\", \"forma_pagamento\": \"COD\"},\n",
        "    {\"id\": 8, \"endereco\": \"Avenida do Sol, 654\", \"forma_pagamento\": \"Cartão\"},\n",
        "]"
      ]
    },
    {
      "cell_type": "code",
      "source": [
        "def order_separator_agent(lista_pedidos):\n",
        "    \"\"\"\n",
        "    Agente responsável por separar os pedidos por forma de pagamento (COD ou outros).\n",
        "    \"\"\"\n",
        "    pedidos_cod = []\n",
        "    pedidos_pagos = []\n",
        "    for pedido in lista_pedidos:\n",
        "        if pedido[\"forma_pagamento\"].upper() == \"COD\":\n",
        "            pedidos_cod.append(pedido)\n",
        "        else:\n",
        "            pedidos_pagos.append(pedido)\n",
        "    print(\"--- Agente de Separação de Pedidos ---\")\n",
        "    print(f\"Total de pedidos recebidos: {len(lista_pedidos)}\")\n",
        "    print(f\"Pedidos separados para COD: {len(pedidos_cod)}\")\n",
        "    print(f\"Pedidos com pagamento já efetuado: {len(pedidos_pagos)}\")\n",
        "    return pedidos_cod, pedidos_pagos"
      ],
      "metadata": {
        "id": "HeWh5LaykdNK"
      },
      "execution_count": null,
      "outputs": []
    },
    {
      "cell_type": "code",
      "source": [
        "def cod_routing_agent(lista_pedidos_cod):\n",
        "    \"\"\"\n",
        "    Agente responsável por simular o roteamento dos pedidos COD.\n",
        "    Nesta versão simples, apenas os agrupa em 'rotas' (listas separadas).\n",
        "    Em um sistema real, consideraria a localização dos endereços.\n",
        "    \"\"\"\n",
        "    rota1_cod = [pedido for pedido in lista_pedidos_cod if pedido[\"id\"] % 2 != 0]\n",
        "    rota2_cod = [pedido for pedido in lista_pedidos_cod if pedido[\"id\"] % 2 == 0]\n",
        "    print(\"\\n--- Agente de Roteamento COD ---\")\n",
        "    print(f\"Total de pedidos COD para roteamento: {len(lista_pedidos_cod)}\")\n",
        "    print(f\"Pedidos COD para a Rota 1: {len(rota1_cod)}\")\n",
        "    for pedido in rota1_cod:\n",
        "        print(f\"  - Pedido ID: {pedido['id']}, Endereço: {pedido['endereco']}\")\n",
        "    print(f\"Pedidos COD para a Rota 2: {len(rota2_cod)}\")\n",
        "    for pedido in rota2_cod:\n",
        "        print(f\"  - Pedido ID: {pedido['id']}, Endereço: {pedido['endereco']}\")\n",
        "    return {\"Rota 1\": rota1_cod, \"Rota 2\": rota2_cod}"
      ],
      "metadata": {
        "id": "vEKkyn7inUrg"
      },
      "execution_count": null,
      "outputs": []
    },
    {
      "cell_type": "code",
      "source": [
        "def cod_status_agent(lista_pedidos_cod):\n",
        "    \"\"\"\n",
        "    Agente responsável por simular a atualização do status dos pedidos COD.\n",
        "    Adiciona um campo 'status' para rastrear a entrega e o pagamento.\n",
        "    \"\"\"\n",
        "    print(\"\\n--- Agente de Status de Entrega COD ---\")\n",
        "    pedidos_com_status = []\n",
        "    for pedido in lista_pedidos_cod:\n",
        "        pedido_com_status = pedido.copy()\n",
        "        pedido_com_status[\"status\"] = \"A caminho\" # Status inicial\n",
        "        print(f\"Pedido ID: {pedido_com_status['id']} - Status: {pedido_com_status['status']}\")\n",
        "        # Simulação de entrega e pagamento (em um sistema real, isso seria um evento externo)\n",
        "        if pedido_com_status[\"id\"] % 3 == 0: # Simulação de alguns pedidos sendo entregues e pagos\n",
        "            pedido_com_status[\"status\"] = \"Entregue - Pago na Entrega\"\n",
        "            print(f\"Pedido ID: {pedido_com_status['id']} - Status: {pedido_com_status['status']}\")\n",
        "        elif pedido_com_status[\"id\"] % 2 == 0: # Simulação de alguns apenas entregues, aguardando pagamento\n",
        "            pedido_com_status[\"status\"] = \"Entregue - Aguardando Pagamento\"\n",
        "            print(f\"Pedido ID: {pedido_com_status['id']} - Status: {pedido_com_status['status']}\")\n",
        "        pedidos_com_status.append(pedido_com_status)\n",
        "    return pedidos_com_status"
      ],
      "metadata": {
        "id": "EMoLkInUniHR"
      },
      "execution_count": null,
      "outputs": []
    },
    {
      "cell_type": "code",
      "source": [
        "def feedback_analysis_agent(feedback_list):\n",
        "    \"\"\"\n",
        "    Agente que simula a análise de feedback de entrega COD, incluindo avaliação por estrelas\n",
        "    e categorização do sentimento.\n",
        "    \"\"\"\n",
        "    print(\"\\n--- Agente de Análise de Feedback de Entrega COD ---\")\n",
        "    for feedback in feedback_list:\n",
        "        print(f\"Feedback recebido para Pedido ID {feedback['pedido_id']}: '{feedback['texto']}'\")\n",
        "        # Simulação da avaliação por estrelas (em um sistema real, isso viria do feedback)\n",
        "        import random\n",
        "        avaliacao_estrelas = random.randint(1, 5)\n",
        "        print(f\"  - Avaliação: {avaliacao_estrelas} Estrelas\")\n",
        "\n",
        "        # Categorização do sentimento com base na avaliação\n",
        "        if avaliacao_estrelas <= 2:\n",
        "            sentimento = \"Negativo\"\n",
        "        elif avaliacao_estrelas == 3:\n",
        "            sentimento = \"Neutro\"\n",
        "        else: # avaliacao_estrelas >= 4\n",
        "            sentimento = \"Positivo\"\n",
        "\n",
        "        print(f\"  - Sentimento: {sentimento}\")\n",
        "    print(\"Análise de feedback concluída.\")\n",
        "\n",
        "# --- Simulação de Feedbacks (poderiam vir de um sistema real para gerar resultados precisos) ---\n",
        "feedbacks_entrega_cod = [\n",
        "    {\"pedido_id\": 1, \"texto\": \"Entrega rápida e pagamento fácil!\"},\n",
        "    {\"pedido_id\": 3, \"texto\": \"O entregador não tinha troco.\"},\n",
        "    {\"pedido_id\": 5, \"texto\": \"Tudo ok com a entrega.\"},\n",
        "    {\"pedido_id\": 7, \"texto\": \"Produto veio um pouco amassado, mas paguei na entrega.\"},\n",
        "]"
      ],
      "metadata": {
        "id": "_RRdpgiky2U1"
      },
      "execution_count": null,
      "outputs": []
    },
    {
      "cell_type": "code",
      "source": [
        "# --- Orquestrando a Operação Logística ---\n",
        "\n",
        "print(\"--- Simulação de Operação Logística COD ---\")\n",
        "\n",
        "# 1. O Agente de Separação de Pedidos processa a lista inicial de pedidos.\n",
        "pedidos_cod_separados, pedidos_pagos_separados = order_separator_agent(pedidos)\n",
        "\n",
        "# 2. O Agente de Roteamento COD recebe os pedidos separados para pagamento na entrega e os organiza.\n",
        "rotas_cod = cod_routing_agent(pedidos_cod_separados)\n",
        "\n",
        "# 3. O Agente de Status de Entrega COD monitora e atualiza o status dos pedidos COD.\n",
        "status_pedidos_cod = cod_status_agent(pedidos_cod_separados)\n",
        "\n",
        "print(\"\\n--- Resumo dos Pedidos COD com Status ---\")\n",
        "for pedido in status_pedidos_cod:\n",
        "    print(f\"ID: {pedido['id']}, Endereço: {pedido['endereco']}, Status: {pedido['status']}\")\n",
        "\n",
        "# 4. O Agente de Análise de Feedback (simulado) processa os feedbacks de entrega COD.\n",
        "feedback_analysis_agent(feedbacks_entrega_cod)"
      ],
      "metadata": {
        "colab": {
          "base_uri": "https://localhost:8080/"
        },
        "id": "uulwhZERnq2E",
        "outputId": "8f2cc891-a880-4b6d-abce-fe9d31f1891d"
      },
      "execution_count": null,
      "outputs": [
        {
          "output_type": "stream",
          "name": "stdout",
          "text": [
            "--- Simulação de Operação Logística COD ---\n",
            "--- Agente de Separação de Pedidos ---\n",
            "Total de pedidos recebidos: 8\n",
            "Pedidos separados para COD: 4\n",
            "Pedidos com pagamento já efetuado: 4\n",
            "\n",
            "--- Agente de Roteamento COD ---\n",
            "Total de pedidos COD para roteamento: 4\n",
            "Pedidos COD para a Rota 1: 4\n",
            "  - Pedido ID: 1, Endereço: Rua das Flores, 123\n",
            "  - Pedido ID: 3, Endereço: Rua dos Cravos, 789\n",
            "  - Pedido ID: 5, Endereço: Alameda dos Anjos, 222\n",
            "  - Pedido ID: 7, Endereço: Rua da Praia, 321\n",
            "Pedidos COD para a Rota 2: 0\n",
            "\n",
            "--- Agente de Status de Entrega COD ---\n",
            "Pedido ID: 1 - Status: A caminho\n",
            "Pedido ID: 3 - Status: A caminho\n",
            "Pedido ID: 3 - Status: Entregue - Pago na Entrega\n",
            "Pedido ID: 5 - Status: A caminho\n",
            "Pedido ID: 7 - Status: A caminho\n",
            "\n",
            "--- Resumo dos Pedidos COD com Status ---\n",
            "ID: 1, Endereço: Rua das Flores, 123, Status: A caminho\n",
            "ID: 3, Endereço: Rua dos Cravos, 789, Status: Entregue - Pago na Entrega\n",
            "ID: 5, Endereço: Alameda dos Anjos, 222, Status: A caminho\n",
            "ID: 7, Endereço: Rua da Praia, 321, Status: A caminho\n",
            "\n",
            "--- Agente de Análise de Feedback de Entrega COD ---\n",
            "Feedback recebido para Pedido ID 1: 'Entrega rápida e pagamento fácil!'\n",
            "  - Avaliação: 1 Estrelas\n",
            "  - Sentimento: Negativo\n",
            "Feedback recebido para Pedido ID 3: 'O entregador não tinha troco.'\n",
            "  - Avaliação: 4 Estrelas\n",
            "  - Sentimento: Positivo\n",
            "Feedback recebido para Pedido ID 5: 'Tudo ok com a entrega.'\n",
            "  - Avaliação: 5 Estrelas\n",
            "  - Sentimento: Positivo\n",
            "Feedback recebido para Pedido ID 7: 'Produto veio um pouco amassado, mas paguei na entrega.'\n",
            "  - Avaliação: 2 Estrelas\n",
            "  - Sentimento: Negativo\n",
            "Análise de feedback concluída.\n"
          ]
        }
      ]
    }
  ]
}